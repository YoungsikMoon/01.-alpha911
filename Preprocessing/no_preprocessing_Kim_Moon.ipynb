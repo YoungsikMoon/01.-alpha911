{
  "nbformat": 4,
  "nbformat_minor": 0,
  "metadata": {
    "colab": {
      "provenance": []
    },
    "kernelspec": {
      "name": "python3",
      "display_name": "Python 3"
    },
    "language_info": {
      "name": "python"
    }
  },
  "cells": [
    {
      "cell_type": "code",
      "execution_count": null,
      "metadata": {
        "id": "WP6-M6EeJbci"
      },
      "outputs": [],
      "source": [
        "import pandas as pd\n",
        "import numpy as np\n",
        "import matplotlib.font_manager as fm\n",
        "import matplotlib.pyplot as plt\n",
        "import re\n",
        "from tqdm import tqdm\n",
        "\n",
        "!apt -qq -y install fonts-nanum > /dev/null\n",
        "\n",
        "\n",
        "# 데이터 불러오기\n",
        "train_data = pd.read_csv('/content/drive/MyDrive/boom_final.csv')\n",
        "print('데이터 개수:', len(train_data))\n",
        "\n",
        "# 문자열이 아닌 데이터 제거\n",
        "train_review = train_data['댓글'].dropna().map(str)\n",
        "\n",
        "\n",
        "# 문자열이 아닌 데이터를 모두 제거한 후 numpy 배열로 변환합니다.\n",
        "train_review = np.array([review for review in train_data['댓글'] if type(review) is str])\n",
        "\n",
        "# 불용어 목록 파일을 불러옵니다.\n",
        "with open('/content/drive/MyDrive/stopword_main.txt', 'r', encoding='utf-8') as f:\n",
        "    stopwords = np.array([line.strip().replace('\\r', '') for line in f.readlines()])\n",
        "\n",
        "# 불용어를 제거하고, 대소문자 및 특수문자 처리합니다. (리스트 컴프리헨션을 사용하여 처리)\n",
        "filtered_review = []\n",
        "for review in tqdm(train_review, desc=\"리뷰 처리 중\"):\n",
        "    review = review.lower()\n",
        "    review = re.sub(r'[^가-힣\\s]', '', review)\n",
        "    words = review.split()\n",
        "\n",
        "    # numpy 배열을 사용하여 불용어를 필터링합니다. 이 경우, 리스트 컴프리헨션을 사용하는 것이 더 적합합니다.\n",
        "    filtered_words = ' '.join([word for word in words if word not in stopwords])\n",
        "    filtered_review.append(filtered_words)"
      ]
    }
  ]
}