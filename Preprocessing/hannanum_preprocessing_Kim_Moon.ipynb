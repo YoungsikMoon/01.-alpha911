{
  "nbformat": 4,
  "nbformat_minor": 0,
  "metadata": {
    "colab": {
      "provenance": []
    },
    "kernelspec": {
      "name": "python3",
      "display_name": "Python 3"
    },
    "language_info": {
      "name": "python"
    }
  },
  "cells": [
    {
      "cell_type": "code",
      "source": [
        "!pip install konlpy"
      ],
      "metadata": {
        "id": "ts9o30-9e5Zo"
      },
      "execution_count": null,
      "outputs": []
    },
    {
      "cell_type": "code",
      "source": [
        "import pandas as pd\n",
        "import numpy as np\n",
        "from wordcloud import WordCloud\n",
        "import matplotlib.pyplot as plt\n",
        "import re\n",
        "from tqdm import tqdm\n",
        "from konlpy.tag import Hannanum  # 한나눔으로 변경\n",
        "\n",
        "!apt -qq -y install fonts-nanum > /dev/null\n",
        "\n",
        "# 형태소 분석기 초기화 (한나눔으로 변경)\n",
        "hannanum = Hannanum()\n",
        "\n",
        "# 데이터 불러오기\n",
        "train_data = pd.read_csv('/content/코퍼스데이터.csv')\n",
        "print('데이터 개수:', len(train_data))\n",
        "\n",
        "# 문자열이 아닌 데이터 제거\n",
        "train_review = train_data['댓글'].dropna().map(str)\n",
        "\n",
        "# 불용어 목록 파일을 불러옵니다.\n",
        "with open('/content/drive/MyDrive/stopword_main.txt', 'r', encoding='utf-8') as f:\n",
        "    stopwords = np.array([line.strip().replace('\\r', '') for line in f.readlines()])\n",
        "\n",
        "# 명사 추출 및 불용어 처리 (한나눔 사용)\n",
        "filtered_review = []\n",
        "for review in tqdm(train_review, desc=\"리뷰 처리 중\"):\n",
        "    review = review.lower()\n",
        "    review = re.sub(r'[^ㄱ-ㅎ|ㅏ-ㅣ|가-힣|a-zA-Z0-9]+', '', review)\n",
        "    nouns = hannanum.nouns(review)  # 한나눔 형태소 분석을 통해 명사만 추출\n",
        "\n",
        "    # numpy 배열을 사용하여 불용어를 필터링합니다. 이 경우, 리스트 컴프리헨션을 사용하는 것이 더 적합합니다.\n",
        "    filtered_nouns = ' '.join([noun for noun in nouns if noun not in stopwords])\n",
        "    filtered_review.append(filtered_nouns)\n",
        "\n",
        "# 다시 numpy 배열로 변환합니다.\n",
        "filtered_review = np.array(filtered_review)\n",
        "\n",
        "# 워드 클라우드 생성 및 출력\n",
        "fontpath = '/usr/share/fonts/truetype/nanum/NanumBarunGothic.ttf'\n",
        "wordcloud = WordCloud(font_path=fontpath, background_color='white', width=800, height=800, stopwords=set(stopwords)).generate(' '.join(filtered_review))\n",
        "\n",
        "plt.figure(figsize=(8, 8))\n",
        "plt.imshow(wordcloud, interpolation='bilinear')\n",
        "plt.axis('off')\n",
        "plt.show()\n"
      ],
      "metadata": {
        "id": "lUv0Qha_fGzM"
      },
      "execution_count": null,
      "outputs": []
    }
  ]
}