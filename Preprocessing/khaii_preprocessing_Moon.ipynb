{
  "nbformat": 4,
  "nbformat_minor": 0,
  "metadata": {
    "colab": {
      "provenance": []
    },
    "kernelspec": {
      "name": "python3",
      "display_name": "Python 3"
    },
    "language_info": {
      "name": "python"
    }
  },
  "cells": [
    {
      "cell_type": "code",
      "source": [
        "!git clone https://github.com/kakao/khaiii.git\n",
        "!pip install cmake\n",
        "!mkdir build\n",
        "!cd build && cmake /content/khaiii\n",
        "!cd /content/khaiii/build/ && make all\n",
        "!cd /content/khaiii/build/ && make resource\n",
        "!cd /content/khaiii/build/ && make install\n",
        "!cd /content/khaiii/build/ && make package_python\n",
        "!pip install /content/khaiii/build/package_python"
      ],
      "metadata": {
        "id": "ers78DwvUJLW"
      },
      "execution_count": null,
      "outputs": []
    },
    {
      "cell_type": "code",
      "execution_count": null,
      "metadata": {
        "id": "jmFjltivOOKf"
      },
      "outputs": [],
      "source": [
        "from pororo import Pororo\n",
        "import pandas as pd\n",
        "import numpy as np\n",
        "import re\n",
        "from tqdm import tqdm\n",
        "\n",
        "# 형태소 분석기 초기화\n",
        "nlp = Pororo(task=\"pos\", lang=\"ko\")\n",
        "\n",
        "# 데이터 불러오기\n",
        "train_data = pd.read_csv('/content/코퍼스데이터.csv')\n",
        "print('데이터 개수:', len(train_data))\n",
        "\n",
        "# 문자열이 아닌 데이터 제거\n",
        "train_review = train_data['댓글'].dropna().map(str)\n",
        "\n",
        "# 불용어 목록 파일을 불러옵니다.\n",
        "with open('/content/drive/MyDrive/stopword_main.txt', 'r', encoding='utf-8') as f:\n",
        "    stopwords = np.array([line.strip().replace('\\r', '') for line in f.readlines()])\n",
        "\n",
        "# 명사 추출 및 불용어 처리\n",
        "filtered_review = []\n",
        "for review in tqdm(train_review, desc=\"리뷰 처리 중\"):\n",
        "    review = review.lower()\n",
        "    review = re.sub(r'[^ㄱ-ㅎ|ㅏ-ㅣ|가-힣|a-zA-Z0-9]+', '', review)\n",
        "    pos_result = nlp(review)\n",
        "    nouns = [word[0] for word in pos_result if word[1] in ['NNG', 'NNP']]  # 일반 명사와 고유 명사만 추출\n",
        "\n",
        "    filtered_nouns = ' '.join([noun for noun in nouns if noun not in stopwords])\n",
        "    filtered_review.append(filtered_nouns)"
      ]
    }
  ]
}