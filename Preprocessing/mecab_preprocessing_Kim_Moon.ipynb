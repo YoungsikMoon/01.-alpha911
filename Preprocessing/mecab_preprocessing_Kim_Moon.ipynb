{
  "cells": [
    {
      "cell_type": "code",
      "execution_count": null,
      "metadata": {
        "id": "ksIbU0Afv5Nj"
      },
      "outputs": [],
      "source": [
        "!pip install mecab-python #메캡 : 일본어용 형태소 분석기를 한국 버전으로 수정한 것\n",
        "!pip install install curl git\n",
        "!bash <(curl -s https://raw.githubusercontent.com/konlpy/konlpy/master/scripts/mecab.sh)\n",
        "!pip install konlpy #코엔엘파이 : 한국어 자연어 처리 패키지"
      ]
    },
    {
      "cell_type": "code",
      "execution_count": null,
      "metadata": {
        "id": "QfQAxkvnwEeP"
      },
      "outputs": [],
      "source": [
        "from konlpy.tag import Mecab\n",
        "mecab = Mecab()\n",
        "print(mecab.nouns('메캅이 잘 설치되었는지 확인하는 테스트 문장입니다.'))\n"
      ]
    },
    {
      "cell_type": "code",
      "execution_count": null,
      "metadata": {
        "id": "vqylxRNDwyw_"
      },
      "outputs": [],
      "source": [
        "import pandas as pd\n",
        "import numpy as np\n",
        "from wordcloud import WordCloud\n",
        "import matplotlib.pyplot as plt\n",
        "import re\n",
        "from tqdm import tqdm\n",
        "from konlpy.tag import Mecab\n",
        "\n",
        "!apt -qq -y install fonts-nanum > /dev/null\n",
        "\n",
        "# 형태소 분석기 초기화\n",
        "mecab = Mecab()\n",
        "\n",
        "# 데이터 불러오기\n",
        "train_data = pd.read_csv('/content/코퍼스데이터.csv')\n",
        "print('데이터 개수:', len(train_data))\n",
        "\n",
        "# 문자열이 아닌 데이터 제거\n",
        "train_review = train_data['댓글'].dropna().map(str)\n",
        "\n",
        "# 불용어 목록 파일을 불러옵니다.\n",
        "with open('/content/drive/MyDrive/stopword_main.txt', 'r', encoding='utf-8') as f:\n",
        "    stopwords = np.array([line.strip().replace('\\r', '') for line in f.readlines()])\n",
        "\n",
        "# 명사 추출 및 불용어 처리\n",
        "filtered_review = []\n",
        "for review in tqdm(train_review, desc=\"리뷰 처리 중\"):\n",
        "    review = review.lower()\n",
        "    review = re.sub(r'[^ㄱ-ㅎ|ㅏ-ㅣ|가-힣|a-zA-Z0-9]+', '', review)\n",
        "    nouns = mecab.nouns(review)  # 형태소 분석을 통해 명사만 추출\n",
        "\n",
        "    # numpy 배열을 사용하여 불용어를 필터링합니다. 이 경우, 리스트 컴프리헨션을 사용하는 것이 더 적합합니다.\n",
        "    filtered_nouns = ' '.join([noun for noun in nouns if noun not in stopwords])\n",
        "    filtered_review.append(filtered_nouns)"
      ]
    }
  ],
  "metadata": {
    "colab": {
      "provenance": []
    },
    "kernelspec": {
      "display_name": "Python 3",
      "name": "python3"
    },
    "language_info": {
      "name": "python"
    }
  },
  "nbformat": 4,
  "nbformat_minor": 0
}